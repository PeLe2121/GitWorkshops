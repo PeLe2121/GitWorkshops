{
  "nbformat": 4,
  "nbformat_minor": 0,
  "metadata": {
    "colab": {
      "name": "Lesson50.ipynb",
      "version": "0.3.2",
      "provenance": []
    },
    "kernelspec": {
      "name": "python3",
      "display_name": "Python 3"
    }
  },
  "cells": [
    {
      "metadata": {
        "id": "CDtiefcCyXjd",
        "colab_type": "text"
      },
      "cell_type": "markdown",
      "source": [
        "#Introduction"
      ]
    },
    {
      "metadata": {
        "id": "2q6322ZbzZ-R",
        "colab_type": "text"
      },
      "cell_type": "markdown",
      "source": [
        "*Erica Giles*\n",
        "\n",
        "\n",
        "This notebook performs a very simple analysis of some data about **earthquakes**. This earthquake data originally comes from the United States Geological Survey. The data was downloaded from the CORGIS project, a collection of datasets. More information about the dataset can be found on the [CORGIS site](https://think.cs.vt.edu/corgis/json/earthquakes/earthquakes.html).\n",
        "\n",
        "For this analysis, I will explore the following research question: \"*What is the distribution of earthquake magnitues?*\" I will answer this question by doing the following: \n",
        "1. Downloading a JSON file of earthquake data \n",
        "2. Printing the first element of the dataset, to learn its structure\n",
        "3. Extracting out the magnitude information from all the earthquakes\n",
        "4. Plotting the distribution of magnitudes\n",
        "5. Discussing the plot and its implications for society"
      ]
    },
    {
      "metadata": {
        "id": "HzEmq_g20NYn",
        "colab_type": "text"
      },
      "cell_type": "markdown",
      "source": [
        "#Downloading Data"
      ]
    },
    {
      "metadata": {
        "id": "J9l5933M0Ml5",
        "colab_type": "code",
        "colab": {}
      },
      "cell_type": "code",
      "source": [
        "import requests\n",
        "\n",
        "url = \"https://think.cs.vt.edu/corgis/json/earthquakes/earthquakes.json\"\n",
        "data = requests.get(url).json()"
      ],
      "execution_count": 0,
      "outputs": []
    },
    {
      "metadata": {
        "id": "lBCkMnH_0dNr",
        "colab_type": "text"
      },
      "cell_type": "markdown",
      "source": [
        "#Previewing The Structure"
      ]
    },
    {
      "metadata": {
        "id": "2kD25eAR0iLc",
        "colab_type": "code",
        "outputId": "db149dc6-762b-4031-91de-1e8d858c2aad",
        "colab": {
          "base_uri": "https://localhost:8080/",
          "height": 289
        }
      },
      "cell_type": "code",
      "source": [
        "from pprint import pprint\n",
        "# The pretty print (pprint) module is great for\n",
        "# quickly visualizing structured data!\n",
        "pprint(data[0])"
      ],
      "execution_count": 0,
      "outputs": [
        {
          "output_type": "stream",
          "text": [
            "{'id': 'nc72666881',\n",
            " 'impact': {'gap': 122.0, 'magnitude': 1.43, 'significance': 31},\n",
            " 'location': {'depth': 15.12,\n",
            "              'distance': 0.1034,\n",
            "              'full': '13km E of Livermore, California',\n",
            "              'latitude': 37.6723333,\n",
            "              'longitude': -121.619,\n",
            "              'name': 'California'},\n",
            " 'time': {'day': 27,\n",
            "          'epoch': 1469593183550,\n",
            "          'full': '2016-07-27 00:19:43',\n",
            "          'hour': 0,\n",
            "          'minute': 19,\n",
            "          'month': 7,\n",
            "          'second': 43,\n",
            "          'year': 2016}}\n"
          ],
          "name": "stdout"
        }
      ]
    },
    {
      "metadata": {
        "id": "4cEpN6bC1KVL",
        "colab_type": "text"
      },
      "cell_type": "markdown",
      "source": [
        "#Extracting Magnitues"
      ]
    },
    {
      "metadata": {
        "id": "BpVxfuER1bhr",
        "colab_type": "code",
        "colab": {}
      },
      "cell_type": "code",
      "source": [
        "magnitudes = [earthquake['impact']['magnitude']\n",
        "              for earthquake in data]"
      ],
      "execution_count": 0,
      "outputs": []
    },
    {
      "metadata": {
        "id": "VDQhNvnw1ejZ",
        "colab_type": "text"
      },
      "cell_type": "markdown",
      "source": [
        "#Plotting Magniutes"
      ]
    },
    {
      "metadata": {
        "id": "aZllxnLI1i-1",
        "colab_type": "code",
        "outputId": "706f7266-31ce-4282-bbf3-51c1a059a741",
        "colab": {
          "base_uri": "https://localhost:8080/",
          "height": 295
        }
      },
      "cell_type": "code",
      "source": [
        "import matplotlib.pyplot as plt\n",
        "plt.hist(magnitudes)\n",
        "plt.title(\"Distribution of Earthquake Magnitudes\")\n",
        "plt.xlabel(\"Magnitude\")\n",
        "plt.ylabel(\"Number of Earthquakes\")\n",
        "plt.show()"
      ],
      "execution_count": 0,
      "outputs": [
        {
          "output_type": "display_data",
          "data": {
            "image/png": "[encoded data removed]",
            "text/plain": [
              "<Figure size 432x288 with 1 Axes>"
            ]
          },
          "metadata": {
            "tags": []
          }
        }
      ]
    },
    {
      "metadata": {
        "id": "8o6IjRwE2Aiq",
        "colab_type": "text"
      },
      "cell_type": "markdown",
      "source": [
        "#Discussion"
      ]
    },
    {
      "metadata": {
        "id": "G89_bt8S2GVV",
        "colab_type": "text"
      },
      "cell_type": "markdown",
      "source": [
        "The histogram above shows that most earthquakes are not very big, with a magnitude of less than 2. However, some earthquakes are very severe, reaching up to a 7 or 8 for their magnitudes. The dataset collects data from all over the world for about a month, so in general, there are quite a few earthquakes that occur.\n",
        "\n",
        "A number of stakeholders could be interested in these results:\n",
        "* People building houses would want to know whether they need to regularly plan for very strong earthquakes.\n",
        "* Emergency relief effort planners would want to know how often they need to plan for earthquakes in general.\n",
        "* Scientists studying tectonic plate activity could use this to determine if a particular earthquake was unusual.\n",
        "\n",
        "A potential conflict between these stakeholders could be between emergency relief planners and builders; builders might want to conserve stronger materials since strong earthquakes are relatively rare, while relief planners would rather they always use strong materials since earthquakes are so frequent. According to the ethical theory of [Least Harm](http://www.dsef.org/wp-content/uploads/2012/07/EthicalTheories.pdf), which states that decision makers should always attempt to harm the fewest people possible, the builders should just use the stronger materials to minimize the threat to the populace.\n",
        "\n",
        "\n",
        "*I have neither given nor received unauthorized assistance on this assignment.*"
      ]
    }
  ]
}